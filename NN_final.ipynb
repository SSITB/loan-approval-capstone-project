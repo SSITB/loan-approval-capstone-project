{
 "cells": [
  {
   "cell_type": "code",
   "execution_count": 1,
   "metadata": {},
   "outputs": [],
   "source": [
    "import pandas as pd\n",
    "from __future__ import print_function\n",
    "import keras\n",
    "from keras.models import Sequential, Model, Input\n",
    "from keras.layers.normalization import BatchNormalization\n",
    "from keras.layers import Dense, Dropout, Activation, Flatten\n",
    "from keras.layers import LSTM\n",
    "import sklearn\n",
    "from sklearn import preprocessing, model_selection\n",
    "import tensorflow as tf\n",
    "from scipy import stats\n",
    "import matplotlib.pyplot as plt\n",
    "import PIL\n",
    "from keras.datasets import mnist\n",
    "from keras.layers import Conv2D, MaxPooling2D\n",
    "from keras import backend as K\n",
    "import numpy as np\n",
    "from sklearn.preprocessing import StandardScaler\n",
    "import pickle\n",
    "import warnings\n",
    "warnings.filterwarnings('ignore')\n",
    "from sklearn.model_selection import train_test_split, cross_val_score\n",
    "from keras.utils import to_categorical\n",
    "from sklearn.metrics import confusion_matrix\n",
    "\n",
    "accept_df = pd.read_csv('accepted_2007_to_2018Q4.csv.gz', compression='gzip')\n",
    "reject_df = pd.read_csv('rejected_2007_to_2018Q4.csv.gz', compression='gzip')"
   ]
  },
  {
   "cell_type": "code",
   "execution_count": 3,
   "metadata": {},
   "outputs": [],
   "source": [
    "# =============================================================================\n",
    "# Feature selection, renaming and target variable definition\n",
    "# =============================================================================\n",
    "\n",
    "accept_df = accept_df.dropna(subset=['fico_range_low']) \n",
    "reject_df['Debt-To-Income Ratio'] = reject_df['Debt-To-Income Ratio'].str.replace('%', '')\n",
    "reject_df['Debt-To-Income Ratio']= reject_df['Debt-To-Income Ratio'].astype(float)\n",
    "\n",
    "accept_df_new = accept_df[[\n",
    "        'emp_length', 'dti','loan_amnt','fico_range_low']]\n",
    "accept_df_new['approved'] = 1\n",
    "\n",
    "reject_df_new = reject_df[[\n",
    "        'Employment Length', 'Debt-To-Income Ratio','Amount Requested','Risk_Score']]\n",
    "reject_df_new['approved'] = 0\n",
    "\n",
    "#Renaming columns\n",
    "reject_df_new = reject_df_new.rename(index=str, columns = {'Zip Code': 'zip_code',\n",
    "                                      'State':'addr_state',\n",
    "                                      'Employment Length':'emp_length', \n",
    "                                      'Debt-To-Income Ratio':'dti',\n",
    "                                      'Amount Requested':'loan_amnt',\n",
    "                                      'Risk_Score':'fico',\n",
    "                                       'Loan Title': 'title'})\n",
    "\n",
    "accept_df_new = accept_df_new.rename(index=str, columns = {'fico_range_low': 'fico'})"
   ]
  },
  {
   "cell_type": "code",
   "execution_count": 4,
   "metadata": {},
   "outputs": [],
   "source": [
    "# =============================================================================\n",
    "# Merging accepted and rejected applications databases\n",
    "# =============================================================================\n",
    "\n",
    "approve_df=reject_df_new.append(accept_df_new)"
   ]
  },
  {
   "cell_type": "code",
   "execution_count": 6,
   "metadata": {},
   "outputs": [],
   "source": [
    "# =============================================================================\n",
    "# Data cleaning\n",
    "# =============================================================================\n",
    "\n",
    "years = ['< 1 year', '1 year', '2 years', '3 years', '4 years', '5 years', '6 years', '7 years', '8 years',\n",
    "        '9 years', '10+ years']\n",
    "years_num = [0, 1, 2, 3, 4, 5, 6, 7, 8, 9, 10]\n",
    "\n",
    "for i in range(len(years)):\n",
    "    approve_df['emp_length'] = approve_df['emp_length'].replace(years[i], years_num[i])\n",
    "\n",
    "approve_df['fico']=approve_df['fico'].where(approve_df['fico']>=0,0)\n",
    "approve_df['dti']=approve_df['dti'].where(approve_df['dti']>=0,approve_df['dti'].mean())\n",
    "approve_df['loan_amnt']=approve_df['loan_amnt'].where(approve_df['loan_amnt']>=0,approve_df['loan_amnt'].mean())\n",
    "approve_df['emp_length']=approve_df['emp_length'].where(approve_df['emp_length']>=0,approve_df['emp_length'].mean())"
   ]
  },
  {
   "cell_type": "code",
   "execution_count": 7,
   "metadata": {},
   "outputs": [],
   "source": [
    "# =============================================================================\n",
    "# Separating features and target variable\n",
    "# =============================================================================\n",
    "\n",
    "X = approve_df.drop('approved', axis=1)\n",
    "y = approve_df['approved']"
   ]
  },
  {
   "cell_type": "code",
   "execution_count": 8,
   "metadata": {},
   "outputs": [],
   "source": [
    "# =============================================================================\n",
    "# Data scaling\n",
    "# =============================================================================\n",
    "\n",
    "cont_vars=['emp_length','dti','loan_amnt','fico']\n",
    "sc = StandardScaler()\n",
    "X[cont_vars]=sc.fit_transform(X[cont_vars])\n",
    "\n",
    "with open('scaler_final.pkl', 'wb') as f:\n",
    "        pickle.dump(sc, f)"
   ]
  },
  {
   "cell_type": "code",
   "execution_count": 10,
   "metadata": {},
   "outputs": [],
   "source": [
    "# =============================================================================\n",
    "# Separating the database into training and testing sets\n",
    "# =============================================================================\n",
    "\n",
    "X_train, X_test, y_train, y_test = train_test_split(X, y, test_size=0.90, random_state=42) "
   ]
  },
  {
   "cell_type": "code",
   "execution_count": 18,
   "metadata": {},
   "outputs": [],
   "source": [
    "# =============================================================================\n",
    "# Fully connected neural network with two hidden relu layers and a sigmoid\n",
    "# activation function\n",
    "# =============================================================================\n",
    "\n",
    "model = Sequential()\n",
    "model.add(Dense(40, input_dim=4, kernel_initializer='normal', activation='relu'))\n",
    "model.add(Dense(4, kernel_initializer='normal', activation='relu'))\n",
    "model.add(Dropout(rate=0.1))\n",
    "model.add(Dense(1, kernel_initializer='normal', activation='sigmoid'))\n",
    "\n",
    "model.compile(loss='binary_crossentropy',\n",
    "             optimizer='adam',\n",
    "             metrics=['accuracy'])"
   ]
  },
  {
   "cell_type": "code",
   "execution_count": 39,
   "metadata": {
    "scrolled": true
   },
   "outputs": [
    {
     "name": "stdout",
     "output_type": "stream",
     "text": [
      "Epoch 1/50\n",
      "2990940/2990940 [==============================] - 7s 2us/step - loss: 0.0691 - acc: 0.9735\n",
      "Epoch 2/50\n",
      "2990940/2990940 [==============================] - 7s 2us/step - loss: 0.0690 - acc: 0.9735\n",
      "Epoch 3/50\n",
      "2990940/2990940 [==============================] - 7s 2us/step - loss: 0.0690 - acc: 0.9736\n",
      "Epoch 4/50\n",
      "2990940/2990940 [==============================] - 7s 2us/step - loss: 0.0690 - acc: 0.9736\n",
      "Epoch 5/50\n",
      "2990940/2990940 [==============================] - 7s 2us/step - loss: 0.0691 - acc: 0.9736\n",
      "Epoch 6/50\n",
      "2990940/2990940 [==============================] - 7s 2us/step - loss: 0.0690 - acc: 0.9736\n",
      "Epoch 7/50\n",
      "2990940/2990940 [==============================] - 7s 2us/step - loss: 0.0690 - acc: 0.9736\n",
      "Epoch 8/50\n",
      "2990940/2990940 [==============================] - 7s 2us/step - loss: 0.0690 - acc: 0.9736\n",
      "Epoch 9/50\n",
      "2990940/2990940 [==============================] - 7s 2us/step - loss: 0.0691 - acc: 0.9735\n",
      "Epoch 10/50\n",
      "2990940/2990940 [==============================] - 7s 2us/step - loss: 0.0690 - acc: 0.9735\n",
      "Epoch 11/50\n",
      "2990940/2990940 [==============================] - 7s 2us/step - loss: 0.0689 - acc: 0.9736\n",
      "Epoch 12/50\n",
      "2990940/2990940 [==============================] - 7s 2us/step - loss: 0.0691 - acc: 0.9736\n",
      "Epoch 13/50\n",
      "2990940/2990940 [==============================] - 7s 2us/step - loss: 0.0691 - acc: 0.9736\n",
      "Epoch 14/50\n",
      "2990940/2990940 [==============================] - 7s 2us/step - loss: 0.0692 - acc: 0.9735\n",
      "Epoch 15/50\n",
      "2990940/2990940 [==============================] - 7s 2us/step - loss: 0.0690 - acc: 0.9735\n",
      "Epoch 16/50\n",
      "2990940/2990940 [==============================] - 7s 2us/step - loss: 0.0690 - acc: 0.9735\n",
      "Epoch 17/50\n",
      "2990940/2990940 [==============================] - 7s 2us/step - loss: 0.0691 - acc: 0.9736\n",
      "Epoch 18/50\n",
      "2990940/2990940 [==============================] - 7s 2us/step - loss: 0.0691 - acc: 0.9736\n",
      "Epoch 19/50\n",
      "2990940/2990940 [==============================] - 7s 2us/step - loss: 0.0689 - acc: 0.9736\n",
      "Epoch 20/50\n",
      "2990940/2990940 [==============================] - 7s 2us/step - loss: 0.0690 - acc: 0.9735\n",
      "Epoch 21/50\n",
      "2990940/2990940 [==============================] - 7s 2us/step - loss: 0.0691 - acc: 0.9735\n",
      "Epoch 22/50\n",
      "2990940/2990940 [==============================] - 7s 2us/step - loss: 0.0689 - acc: 0.9736\n",
      "Epoch 23/50\n",
      "2990940/2990940 [==============================] - 7s 2us/step - loss: 0.0690 - acc: 0.9736\n",
      "Epoch 24/50\n",
      "2990940/2990940 [==============================] - 7s 2us/step - loss: 0.0690 - acc: 0.9735\n",
      "Epoch 25/50\n",
      "2990940/2990940 [==============================] - 7s 2us/step - loss: 0.0690 - acc: 0.9736\n",
      "Epoch 26/50\n",
      "2990940/2990940 [==============================] - 7s 2us/step - loss: 0.0689 - acc: 0.9737\n",
      "Epoch 27/50\n",
      "2990940/2990940 [==============================] - 7s 2us/step - loss: 0.0691 - acc: 0.9735\n",
      "Epoch 28/50\n",
      "2990940/2990940 [==============================] - 7s 2us/step - loss: 0.0690 - acc: 0.9736\n",
      "Epoch 29/50\n",
      "2990940/2990940 [==============================] - 7s 2us/step - loss: 0.0690 - acc: 0.9736\n",
      "Epoch 30/50\n",
      "2990940/2990940 [==============================] - 7s 2us/step - loss: 0.0690 - acc: 0.9736\n",
      "Epoch 31/50\n",
      "2990940/2990940 [==============================] - 7s 2us/step - loss: 0.0690 - acc: 0.9736\n",
      "Epoch 32/50\n",
      "2990940/2990940 [==============================] - 7s 2us/step - loss: 0.0691 - acc: 0.9735\n",
      "Epoch 33/50\n",
      "2990940/2990940 [==============================] - 7s 2us/step - loss: 0.0690 - acc: 0.9735\n",
      "Epoch 34/50\n",
      "2990940/2990940 [==============================] - 7s 2us/step - loss: 0.0690 - acc: 0.9736\n",
      "Epoch 35/50\n",
      "2990940/2990940 [==============================] - 7s 2us/step - loss: 0.0690 - acc: 0.9735\n",
      "Epoch 36/50\n",
      "2990940/2990940 [==============================] - 7s 2us/step - loss: 0.0689 - acc: 0.9736\n",
      "Epoch 37/50\n",
      "2990940/2990940 [==============================] - 7s 2us/step - loss: 0.0691 - acc: 0.9735\n",
      "Epoch 38/50\n",
      "2990940/2990940 [==============================] - 7s 2us/step - loss: 0.0690 - acc: 0.9736\n",
      "Epoch 39/50\n",
      "2990940/2990940 [==============================] - 7s 2us/step - loss: 0.0690 - acc: 0.9736\n",
      "Epoch 40/50\n",
      "2990940/2990940 [==============================] - 7s 2us/step - loss: 0.0690 - acc: 0.9736\n",
      "Epoch 41/50\n",
      "2990940/2990940 [==============================] - 7s 2us/step - loss: 0.0689 - acc: 0.9736\n",
      "Epoch 42/50\n",
      "2990940/2990940 [==============================] - 7s 2us/step - loss: 0.0690 - acc: 0.9736\n",
      "Epoch 43/50\n",
      "2990940/2990940 [==============================] - 7s 2us/step - loss: 0.0689 - acc: 0.9737\n",
      "Epoch 44/50\n",
      "2990940/2990940 [==============================] - 7s 2us/step - loss: 0.0690 - acc: 0.9736\n",
      "Epoch 45/50\n",
      "2990940/2990940 [==============================] - 7s 2us/step - loss: 0.0689 - acc: 0.9737\n",
      "Epoch 46/50\n",
      "2990940/2990940 [==============================] - 7s 2us/step - loss: 0.0690 - acc: 0.9736\n",
      "Epoch 47/50\n",
      "2990940/2990940 [==============================] - 7s 2us/step - loss: 0.0689 - acc: 0.9736\n",
      "Epoch 48/50\n",
      "2990940/2990940 [==============================] - 7s 2us/step - loss: 0.0689 - acc: 0.9736\n",
      "Epoch 49/50\n",
      "2990940/2990940 [==============================] - 7s 2us/step - loss: 0.0689 - acc: 0.9736\n",
      "Epoch 50/50\n",
      "2990940/2990940 [==============================] - 7s 2us/step - loss: 0.0688 - acc: 0.9737\n"
     ]
    },
    {
     "data": {
      "text/plain": [
       "<keras.callbacks.History at 0x7f9fdf4446d8>"
      ]
     },
     "execution_count": 39,
     "metadata": {},
     "output_type": "execute_result"
    }
   ],
   "source": [
    "# =============================================================================\n",
    "# Model fitting\n",
    "# =============================================================================\n",
    "\n",
    "model.fit(X_train, y_train, epochs=200, batch_size=1000)"
   ]
  },
  {
   "cell_type": "code",
   "execution_count": 40,
   "metadata": {},
   "outputs": [],
   "source": [
    "# =============================================================================\n",
    "# Model saving\n",
    "# =============================================================================\n",
    "\n",
    "with open('NN_model_final.pkl', 'wb') as f:\n",
    "        pickle.dump(model, f)"
   ]
  },
  {
   "cell_type": "code",
   "execution_count": 42,
   "metadata": {},
   "outputs": [],
   "source": [
    "# =============================================================================\n",
    "# Prediction generating\n",
    "# =============================================================================\n",
    "\n",
    "y_predicted_test = model_NN.predict(X_test)"
   ]
  },
  {
   "cell_type": "code",
   "execution_count": 43,
   "metadata": {},
   "outputs": [
    {
     "name": "stdout",
     "output_type": "stream",
     "text": [
      "TN: 24437118 FP: 447034 FN: 210861 TP: 1823456\n"
     ]
    }
   ],
   "source": [
    "# =============================================================================\n",
    "# Calculating the confusion matrix\n",
    "# =============================================================================\n",
    "\n",
    "tn, fp, fn, tp=confusion_matrix(y_test, np.round(y_predicted_test,0)).ravel()\n",
    "print('TN:',tn, 'FP:',fp, 'FN:',fn, 'TP:',tp)"
   ]
  },
  {
   "cell_type": "code",
   "execution_count": 46,
   "metadata": {},
   "outputs": [
    {
     "data": {
      "text/plain": [
       "2.4440282989348314"
      ]
     },
     "execution_count": 46,
     "metadata": {},
     "output_type": "execute_result"
    }
   ],
   "source": [
    "# =============================================================================\n",
    "# Error rate\n",
    "# =============================================================================\n",
    "\n",
    "(fp + fn)/(tn + fp + fn + tp)*100"
   ]
  },
  {
   "cell_type": "code",
   "execution_count": 2,
   "metadata": {},
   "outputs": [
    {
     "data": {
      "text/plain": [
       "1.7964606549582243"
      ]
     },
     "execution_count": 2,
     "metadata": {},
     "output_type": "execute_result"
    }
   ],
   "source": [
    "# =============================================================================\n",
    "# False positive rate\n",
    "# =============================================================================\n",
    "\n",
    "(fp)/(fp + tn)*100"
   ]
  },
  {
   "cell_type": "code",
   "execution_count": 1,
   "metadata": {},
   "outputs": [
    {
     "data": {
      "text/plain": [
       "10.365198737463237"
      ]
     },
     "execution_count": 1,
     "metadata": {},
     "output_type": "execute_result"
    }
   ],
   "source": [
    "# =============================================================================\n",
    "# False negative rate\n",
    "# =============================================================================\n",
    "\n",
    "(fn)/(fn + tp)*100"
   ]
  }
 ],
 "metadata": {
  "kernelspec": {
   "display_name": "Python 3",
   "language": "python",
   "name": "python3"
  },
  "language_info": {
   "codemirror_mode": {
    "name": "ipython",
    "version": 3
   },
   "file_extension": ".py",
   "mimetype": "text/x-python",
   "name": "python",
   "nbconvert_exporter": "python",
   "pygments_lexer": "ipython3",
   "version": "3.7.1"
  }
 },
 "nbformat": 4,
 "nbformat_minor": 2
}
