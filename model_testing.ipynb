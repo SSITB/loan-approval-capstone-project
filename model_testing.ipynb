{
 "cells": [
  {
   "cell_type": "code",
   "execution_count": 2,
   "metadata": {},
   "outputs": [],
   "source": [
    "# =============================================================================\n",
    "# Importing the neural network model and the scaler\n",
    "# =============================================================================\n",
    "\n",
    "import pickle\n",
    "with open('NN_model_final.pkl', 'rb') as f:\n",
    "          model = pickle.load(f) \n",
    "        \n",
    "with open('scaler_final.pkl', 'rb') as f:\n",
    "          sc = pickle.load(f)"
   ]
  },
  {
   "cell_type": "code",
   "execution_count": 3,
   "metadata": {},
   "outputs": [
    {
     "name": "stdout",
     "output_type": "stream",
     "text": [
      "Congratulations! You loan request has been approved with a probability of [[0.8867444]]\n"
     ]
    }
   ],
   "source": [
    "# =============================================================================\n",
    "# App testing: taking in 5 borrower features, scaling them and using neural \n",
    "# network model to predict the likelihood of approval\n",
    "# =============================================================================\n",
    "\n",
    "import pandas as pd\n",
    "\n",
    "def approve(loan, income, debt, fico, emp, model, scaler):\n",
    "    X = pd.DataFrame([emp, debt/income*100, loan, fico]).T\n",
    "    X.columns = ['emp_length','dti', 'loan_amnt', 'fico']\n",
    "\n",
    "    X=scaler.transform(X)\n",
    "    prob = model.predict_proba(X)\n",
    "\n",
    "    if prob>0.5:\n",
    "        print(\"Congratulations! You loan request has been approved with a probability of\",prob)\n",
    "    else:\n",
    "        print(\"Regretably, your loan request has not been approved with a probability of\",prob)\n",
    "        \n",
    "approve(20000, 2000, 400, 670, 10, model, sc)"
   ]
  },
  {
   "cell_type": "code",
   "execution_count": null,
   "metadata": {},
   "outputs": [],
   "source": []
  }
 ],
 "metadata": {
  "kernelspec": {
   "display_name": "Python 3",
   "language": "python",
   "name": "python3"
  },
  "language_info": {
   "codemirror_mode": {
    "name": "ipython",
    "version": 3
   },
   "file_extension": ".py",
   "mimetype": "text/x-python",
   "name": "python",
   "nbconvert_exporter": "python",
   "pygments_lexer": "ipython3",
   "version": "3.7.1"
  }
 },
 "nbformat": 4,
 "nbformat_minor": 2
}
